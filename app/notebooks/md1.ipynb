{
 "cells": [
  {
   "cell_type": "code",
   "execution_count": 1,
   "metadata": {},
   "outputs": [
    {
     "name": "stdout",
     "output_type": "stream",
     "text": [
      "[[4.]] [-1.] 0.7209221\n",
      "1 [[1.8482943]] [4.0350366] 0.49737713\n",
      "2 [[1.7101799]] [3.9117591] 0.49659425\n",
      "3 [[1.5312474]] [3.7516825] 0.49522403\n",
      "4 [[1.2812005]] [3.5273435] 0.49234644\n",
      "5 [[0.8830391]] [3.1687577] 0.48386672\n",
      "6 [[0.05732024]] [2.4211926] 0.42894226\n",
      "7 [[-3.2360206]] [-0.5665953] 0.20374562\n",
      "8 [[-3.259318]] [6.777541] 0.47161716\n",
      "9 [[-4.617487]] [5.419437] 0.23832989\n",
      "10 [[-11.996084]] [-1.9581919] 0.38398337\n",
      "11 [[-11.996084]] [2.7902565] 0.0016734854\n",
      "12 [[-11.996085]] [2.9479225] 0.001241757\n",
      "Tensor raw input:  1.0\n",
      "Tensor inverted ouput:  0.00011759311\n",
      "Tensor aproximately calculate NOT function\n",
      "Tensor raw input:  0.0\n",
      "Tensor inverted ouput:  0.9501653\n",
      "Tensor aproximately calculate NOT function\n"
     ]
    }
   ],
   "source": [
    "import tensorflow as tf\n",
    "import numpy as np\n",
    "from mpl_toolkits.mplot3d import Axes3D\n",
    "import matplotlib.pyplot as plt\n",
    "from matplotlib import cm\n",
    "from matplotlib.ticker import LinearLocator, FormatStrFormatter\n",
    "\n",
    "\n",
    "# Make 2 data points in NumPy.\n",
    "x_data = np.float32([[1,0]])\n",
    "y_data = np.float32([0,1])\n",
    "\n",
    "# Construct a linear model.\n",
    "b = tf.Variable(np.float32([-1]))\n",
    "W = tf.Variable(np.float32([[4]]))\n",
    "\n",
    "y = tf.sigmoid(tf.matmul(W, x_data) + b)\n",
    "\n",
    "# Minimize the squared errors.\n",
    "loss = tf.reduce_mean(tf.square(y - y_data))\n",
    "optimizer = tf.train.GradientDescentOptimizer(50.0)\n",
    "train = optimizer.minimize(loss)\n",
    "\n",
    "# For initializing the variables.\n",
    "init = tf.global_variables_initializer()\n",
    "\n",
    "# Launch the graph\n",
    "sess = tf.Session()\n",
    "sess.run(init)\n",
    "print (sess.run(W), sess.run(b), sess.run(loss))\n",
    "\n",
    "W_grid = []\n",
    "b_grid = []\n",
    "loss_grid = []\n",
    "\n",
    "# Training\n",
    "for step in range(1, 13):\n",
    "    sess.run(train)\n",
    "    if step % 1 == 0:\n",
    "        W_grid.append(sess.run(W[0][0]))\n",
    "        b_grid.append(sess.run(b[0]))\n",
    "        loss_grid.append(sess.run(loss))\n",
    "        print(step, sess.run(W), sess.run(b), sess.run(loss))\n",
    "        \n",
    "result = sess.run(y)[0]\n",
    "\n",
    "for i, value in enumerate(x_data[0]):\n",
    "    print('Tensor raw input: ', value)\n",
    "    print('Tensor inverted ouput: ', result[i])\n",
    "    \n",
    "    if round(value) == (not round(result[i])):\n",
    "        print('Tensor aproximately calculate NOT function')\n",
    "    else:\n",
    "        print('Tensor does not calculate NOT function')\n"
   ]
  }
 ],
 "metadata": {
  "kernelspec": {
   "display_name": "Python 3",
   "language": "python",
   "name": "python3"
  },
  "language_info": {
   "codemirror_mode": {
    "name": "ipython",
    "version": 3
   },
   "file_extension": ".py",
   "mimetype": "text/x-python",
   "name": "python",
   "nbconvert_exporter": "python",
   "pygments_lexer": "ipython3",
   "version": "3.6.6"
  }
 },
 "nbformat": 4,
 "nbformat_minor": 2
}
